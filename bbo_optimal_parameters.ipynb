{
 "cells": [
  {
   "cell_type": "code",
   "execution_count": 1,
   "metadata": {},
   "outputs": [],
   "source": [
    "import numpy as np\n",
    "import scipy.constants\n",
    "import pandas as pd\n",
    "import sys\n",
    "\n",
    "sys.path.insert(0, '/Users/braulioantonio/Documents/Python/Research/Parameters')\n",
    "import LaserParameters, BBOParameters\n",
    "\n",
    "import matplotlib.pyplot as plt"
   ]
  },
  {
   "cell_type": "code",
   "execution_count": 2,
   "metadata": {},
   "outputs": [],
   "source": [
    "plt.style.use('dark_background')\n",
    "\n",
    "plt.rcParams.update({\n",
    "    \"text.usetex\": True,\n",
    "    \"font.family\": \"Helvetica\"\n",
    "})\n",
    "\n",
    "savedir = '/Users/braulioantonio/Documents/Python/Research/Plots/'"
   ]
  },
  {
   "attachments": {},
   "cell_type": "markdown",
   "metadata": {},
   "source": [
    "## Loading all the physical constants"
   ]
  },
  {
   "cell_type": "code",
   "execution_count": 3,
   "metadata": {},
   "outputs": [],
   "source": [
    "c = scipy.constants.c\n",
    "epsilon_0 = scipy.constants.epsilon_0"
   ]
  },
  {
   "cell_type": "code",
   "execution_count": 4,
   "metadata": {},
   "outputs": [],
   "source": [
    "Laser1550 = LaserParameters.TopticaLaser1550()\n",
    "#deffTypeI = BBOParameters.deffTypeI"
   ]
  },
  {
   "cell_type": "code",
   "execution_count": 5,
   "metadata": {},
   "outputs": [],
   "source": [
    "def RungeKutta4(F, t, y0, *args):\n",
    "    N = len(t)\n",
    "    h = t[1] - t[0]\n",
    "\n",
    "    y = np.zeros( (N, len(y0)) )\n",
    "    y[0] = y0\n",
    "    for j in range(N-1):\n",
    "        k1 = F(y[j], t[j], *args)\n",
    "        k2 = F(y[j] + k1*h/2., t[j] + h/2., *args)\n",
    "        k3 = F(y[j] + k2*h/2., t[j] + h/2., *args)\n",
    "        k4 = F(y[j] + k3*h, t[j] + h, *args)\n",
    "        y[j+1] = y[j] + (h/6.)*(k1 + 2*k2 + 2*k3 + k4)\n",
    "                 \n",
    "    return y"
   ]
  },
  {
   "cell_type": "code",
   "execution_count": 6,
   "metadata": {},
   "outputs": [],
   "source": [
    "def SHG_RungeKuttaFunction(y, t, Delta_s):\n",
    "    v1 = y[0]*y[1]*np.sin(y[2])\n",
    "    v2 = -y[0]**2*np.sin(y[2])\n",
    "    v3 = Delta_s+np.cos(y[2])*(2*y[1]**2-y[0]**2)/y[1]\n",
    "    \n",
    "    return np.array([v1,v2,v3])"
   ]
  },
  {
   "cell_type": "code",
   "execution_count": null,
   "metadata": {},
   "outputs": [],
   "source": []
  },
  {
   "cell_type": "code",
   "execution_count": 7,
   "metadata": {},
   "outputs": [],
   "source": [
    "no2_1550, ne2_1550 = BBOParameters.n2_Nikogosyan(1.55)\n",
    "no2_775, ne2_775 = BBOParameters.n2_Nikogosyan(0.775)\n",
    "\n",
    "#theta = 19.32*np.pi/180\n",
    "theta = BBOParameters.PhaseMatchingAngle(no2_1550, ne2_1550, no2_775, ne2_775)\n",
    "phi = -90*np.pi/180\n",
    "\n",
    "n_1550 = np.sqrt(no2_1550)#ne_angle(no2_1550, ne2_1550, theta)\n",
    "n_775 = BBOParameters.ne_angle(no2_775, ne2_775, theta)\n",
    "\n",
    "omega_1550 = 2*np.pi*scipy.constants.lambda2nu(1550e-9)\n",
    "Delta_K = 2*omega_1550*(n_1550 - n_775)/c\n",
    "\n",
    "Power = Laser1550.peak_power\n",
    "Waist = 0.01e-3\n",
    "I = Power/(np.pi*Waist**2) #needs improvement\n",
    "d_eff = 4e-11*BBOParameters.deffTypeI(theta, phi, -0.5) #needs improvement\n",
    "\n",
    "characteristic_length = np.sqrt(2*n_1550**2*n_775/(epsilon_0*c*I))*c/(2*omega_1550*np.abs(d_eff))"
   ]
  },
  {
   "cell_type": "code",
   "execution_count": 9,
   "metadata": {},
   "outputs": [
    {
     "data": {
      "text/plain": [
       "1.6465863905897784"
      ]
     },
     "execution_count": 9,
     "metadata": {},
     "output_type": "execute_result"
    }
   ],
   "source": [
    "n_1550"
   ]
  },
  {
   "cell_type": "code",
   "execution_count": null,
   "metadata": {},
   "outputs": [],
   "source": []
  },
  {
   "cell_type": "code",
   "execution_count": null,
   "metadata": {},
   "outputs": [],
   "source": []
  },
  {
   "cell_type": "code",
   "execution_count": null,
   "metadata": {},
   "outputs": [],
   "source": []
  },
  {
   "cell_type": "code",
   "execution_count": 85,
   "metadata": {},
   "outputs": [],
   "source": [
    "u_tot = 1\n",
    "u1_0 = 0.999\n",
    "u2_0 = np.sqrt(u_tot**22-u1_0**2)\n",
    "y0 = np.array([u1_0,u2_0,0])\n",
    "z = np.linspace(0,3, int(1e5))\n",
    "Delta_s = 0.05\n",
    "\n",
    "SHG_Solution = RungeKutta4(SHG_RungeKuttaFunction, z, y0, Delta_s )"
   ]
  },
  {
   "cell_type": "code",
   "execution_count": 86,
   "metadata": {},
   "outputs": [],
   "source": [
    "u1 = SHG_Solution[:,0]\n",
    "u2 = SHG_Solution[:,1]\n",
    "alpha = SHG_Solution[:,2]"
   ]
  },
  {
   "cell_type": "code",
   "execution_count": 87,
   "metadata": {},
   "outputs": [
    {
     "data": {
      "image/png": "[encoded data removed]",
      "text/plain": [
       "<Figure size 648x432 with 1 Axes>"
      ]
     },
     "metadata": {},
     "output_type": "display_data"
    }
   ],
   "source": [
    "plt.figure(figsize=(9,6))\n",
    "\n",
    "L = 1e-3/characteristic_length\n",
    "\n",
    "plt.plot(z, u1, label = '$\\omega_1$')\n",
    "plt.plot(z,u2, label='$\\omega_2=2 \\omega_1$')\n",
    "plt.plot(z, u1**2+u2**2, color = 'gray', alpha = 0.5)\n",
    "plt.vlines(L, 0, 1, color = 'gray', alpha = 0.5)\n",
    "\n",
    "plt.legend(loc='best', fontsize=20)\n",
    "plt.xlabel(r'$\\zeta$', fontsize = 20)\n",
    "plt.ylabel(r'Fraction of total power $u^2$', fontsize = 20)\n",
    "plt.xticks(fontsize=18)\n",
    "plt.yticks(fontsize=18)\n",
    "\n",
    "plt.savefig(savedir+'SHG_BBOTheoretical.png', bbox_inches='tight')\n",
    "plt.show()"
   ]
  },
  {
   "cell_type": "code",
   "execution_count": null,
   "metadata": {},
   "outputs": [],
   "source": []
  }
 ],
 "metadata": {
  "kernelspec": {
   "display_name": "base",
   "language": "python",
   "name": "python3"
  },
  "language_info": {
   "codemirror_mode": {
    "name": "ipython",
    "version": 3
   },
   "file_extension": ".py",
   "mimetype": "text/x-python",
   "name": "python",
   "nbconvert_exporter": "python",
   "pygments_lexer": "ipython3",
   "version": "3.9.7"
  },
  "orig_nbformat": 4,
  "vscode": {
   "interpreter": {
    "hash": "38cca0c38332a56087b24af0bc80247f4fced29cb4f7f437d91dc159adec9c4e"
   }
  }
 },
 "nbformat": 4,
 "nbformat_minor": 2
}
